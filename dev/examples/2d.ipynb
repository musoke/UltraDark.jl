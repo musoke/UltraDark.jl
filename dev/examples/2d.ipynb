{
 "cells": [
  {
   "cell_type": "markdown",
   "source": [
    "# Example: 2D Simulation"
   ],
   "metadata": {}
  },
  {
   "outputs": [
    {
     "output_type": "execute_result",
     "data": {
      "text/plain": "1"
     },
     "metadata": {},
     "execution_count": 1
    }
   ],
   "cell_type": "code",
   "source": [
    "using UltraDark\n",
    "using Test\n",
    "using NPZ\n",
    "using CairoMakie\n",
    "using CSV\n",
    "\n",
    "Threads.nthreads()"
   ],
   "metadata": {},
   "execution_count": 1
  },
  {
   "cell_type": "markdown",
   "source": [
    "## Define initial conditions\n",
    "\n",
    "Define a 2D grid."
   ],
   "metadata": {}
  },
  {
   "outputs": [],
   "cell_type": "code",
   "source": [
    "resol = 128\n",
    "len = 10.0\n",
    "\n",
    "grids = Grids((len, len, len / resol), (resol, resol, 1));"
   ],
   "metadata": {},
   "execution_count": 2
  },
  {
   "cell_type": "markdown",
   "source": [
    "Add some solitons to the grid.  Strictly speaking, these aren't solitons in 2D, but they'll do for demonstration purposes."
   ],
   "metadata": {}
  },
  {
   "outputs": [],
   "cell_type": "code",
   "source": [
    "mass = 10\n",
    "position_1 = [-len / 5, -len / 5, 0]\n",
    "position_2 = [-len / 5, +len / 5, 0]\n",
    "velocity = [1, 0, 0]\n",
    "phase_1 = 0\n",
    "phase_2 = π\n",
    "t0 = 0\n",
    "\n",
    "UltraDark.Initialise.add_fdm_soliton!(grids, mass, position_1, velocity, phase_1, t0)\n",
    "UltraDark.Initialise.add_fdm_soliton!(grids, mass, position_2, velocity, phase_2, t0)"
   ],
   "metadata": {},
   "execution_count": 3
  },
  {
   "cell_type": "markdown",
   "source": [
    "## Set options"
   ],
   "metadata": {}
  },
  {
   "outputs": [],
   "cell_type": "code",
   "source": [
    "output_dir = joinpath(mktempdir(), \"output\", \"2D\")\n",
    "\n",
    "output_times = 0:0.1:5\n",
    "output_config = OutputConfig(output_dir, output_times);\n",
    "\n",
    "options = Config.SimulationConfig();"
   ],
   "metadata": {},
   "execution_count": 4
  },
  {
   "cell_type": "markdown",
   "source": [
    "## Run simulation"
   ],
   "metadata": {}
  },
  {
   "outputs": [
    {
     "name": "stdout",
     "output_type": "stream",
     "text": [
      "[ Info: Reached time 0.09999999999999998\n",
      "[ Info: Reached time 0.20000000000000004\n",
      "[ Info: Reached time 0.30000000000000004\n",
      "[ Info: Reached time 0.4\n",
      "[ Info: Reached time 0.5\n",
      "[ Info: Reached time 0.5999999999999999\n",
      "[ Info: Reached time 0.6999999999999997\n",
      "[ Info: Reached time 0.8000000000000002\n",
      "[ Info: Reached time 0.9\n",
      "[ Info: Reached time 0.9999999999999999\n",
      "[ Info: Reached time 1.1\n",
      "[ Info: Reached time 1.2000000000000002\n",
      "[ Info: Reached time 1.3000000000000003\n",
      "[ Info: Reached time 1.4000000000000004\n",
      "[ Info: Reached time 1.5000000000000004\n",
      "[ Info: Reached time 1.6000000000000005\n",
      "[ Info: Reached time 1.7000000000000006\n",
      "[ Info: Reached time 1.8000000000000007\n",
      "[ Info: Reached time 1.8999999999999997\n",
      "[ Info: Reached time 1.9999999999999998\n",
      "[ Info: Reached time 2.1000000000000014\n",
      "[ Info: Reached time 2.2\n",
      "[ Info: Reached time 2.2999999999999994\n",
      "[ Info: Reached time 2.400000000000001\n",
      "[ Info: Reached time 2.5\n",
      "[ Info: Reached time 2.6000000000000014\n",
      "[ Info: Reached time 2.7\n",
      "[ Info: Reached time 2.7999999999999994\n",
      "[ Info: Reached time 2.900000000000001\n",
      "[ Info: Reached time 3.0\n",
      "[ Info: Reached time 3.1000000000000014\n",
      "[ Info: Reached time 3.2\n",
      "[ Info: Reached time 3.2999999999999994\n",
      "[ Info: Reached time 3.400000000000001\n",
      "[ Info: Reached time 3.5\n",
      "[ Info: Reached time 3.6000000000000014\n",
      "[ Info: Reached time 3.7\n",
      "[ Info: Reached time 3.7999999999999994\n",
      "[ Info: Reached time 3.900000000000001\n",
      "[ Info: Reached time 4.0\n",
      "[ Info: Reached time 4.099999999999999\n",
      "[ Info: Reached time 4.200000000000002\n",
      "[ Info: Reached time 4.300000000000001\n",
      "[ Info: Reached time 4.3999999999999995\n",
      "[ Info: Reached time 4.500000000000003\n",
      "[ Info: Reached time 4.6\n",
      "[ Info: Reached time 4.700000000000002\n",
      "[ Info: Reached time 4.800000000000001\n",
      "[ Info: Reached time 4.8999999999999995\n",
      "[ Info: Reached time 5.000000000000003\n",
      "  2.968418 seconds (742.13 k allocations: 343.173 MiB, 14.23% gc time, 32.81% compilation time: 97% of which was recompilation)\n"
     ]
    }
   ],
   "cell_type": "code",
   "source": [
    "@time simulate!(grids, options, output_config)"
   ],
   "metadata": {},
   "execution_count": 5
  },
  {
   "cell_type": "markdown",
   "source": [
    "## Plot output"
   ],
   "metadata": {}
  },
  {
   "outputs": [
    {
     "output_type": "execute_result",
     "data": {
      "text/plain": "\"2d.mkv\""
     },
     "metadata": {},
     "execution_count": 6
    }
   ],
   "cell_type": "code",
   "source": [
    "summary = CSV.File(joinpath(output_config.directory, \"summary.csv\"));\n",
    "\n",
    "rho_last = npzread(\"$(output_config.directory)/rho_$(length(output_times)).npy\");\n",
    "δ_lims = extrema(rho_last .- 1)\n",
    "\n",
    "fig_anim = Figure()\n",
    "ax_anim = Axis(fig_anim[1, 1], aspect = DataAspect())\n",
    "\n",
    "hidedecorations!(ax_anim)\n",
    "\n",
    "cb_density = Colorbar(fig_anim[1, 2], limits = δ_lims, label = L\"$\\rho/\\rho_{\\text{crit}}$\")\n",
    "\n",
    "frame = Observable(1)\n",
    "\n",
    "rho = lift(i -> npzread(joinpath(output_config.directory, \"rho_$(i).npy\"))[:, :, 1], frame)\n",
    "δ = @lift($rho .- 1)\n",
    "\n",
    "contourf!(ax_anim, grids.x[:, 1, 1], grids.y[1, :, 1], δ, levels = range(-1, δ_lims[2], 10))\n",
    "\n",
    "record(fig_anim, \"2d.mkv\", 1:length(output_times); framerate = 5) do f\n",
    "    frame[] = f\n",
    "end"
   ],
   "metadata": {},
   "execution_count": 6
  },
  {
   "cell_type": "markdown",
   "source": [
    "---\n",
    "\n",
    "*This notebook was generated using [Literate.jl](https://github.com/fredrikekre/Literate.jl).*"
   ],
   "metadata": {}
  }
 ],
 "nbformat_minor": 3,
 "metadata": {
  "language_info": {
   "file_extension": ".jl",
   "mimetype": "application/julia",
   "name": "julia",
   "version": "1.10.4"
  },
  "kernelspec": {
   "name": "julia-1.10",
   "display_name": "Julia 1.10.4",
   "language": "julia"
  }
 },
 "nbformat": 4
}
